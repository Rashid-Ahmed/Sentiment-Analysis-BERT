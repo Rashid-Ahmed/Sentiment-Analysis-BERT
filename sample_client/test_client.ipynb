{
 "cells": [
  {
   "cell_type": "code",
   "execution_count": null,
   "metadata": {},
   "outputs": [],
   "source": [
    "import socket\n",
    "host = \"127.0.0.1\"  # as both code is running on same pc\n",
    "port = 10000  # socket server port number\n",
    "import json\n",
    "client_socket = socket.socket()  # instantiate\n",
    "client_socket.connect((host, port))  # connect to the server\n",
    "\n",
    "sentence0 = \"That suits me well. Can you check if they have live music, and also tell me how pricey are they?\"\n",
    "sentence1 = \"3hours Late Flight - and now we need to wait TWENTY MORE MINUTES for a gate! I have patience but none for incompetence.\"\n",
    "sentence2 = \"High quality pants. Very comfortable and great for sport activities. Good price for nice quality! I recommend to all fans of sports\"\n",
    "sentence3 = \"The mobile app can be really glitchy and is definitely not user friendly\"\n",
    "sentence4 =  \"There is always someone available from their customer support team on live chat to help you\"\n",
    "sentence5 = \"No specific type, I just need the area that it's in, please.\"\n",
    "sentence6 = \"The plot was good, but the characters are uncompelling and the dialog is not great\"\n",
    "sentence7 = \"No, you've made quite a mess of things as it is.\"\n",
    "sentence8 = \"That sounds great! Could you help me make a reservation there?\"\n",
    "sentences = [sentence0, sentence1, sentence2, sentence3, sentence4, sentence5, sentence6, sentence7, sentence8]\n",
    "count = 0\n",
    "json_data = ''\n",
    "while sentences[count].lower().strip() != 'bye':\n",
    "    client_socket.send(sentences[count].encode())  # send message\n",
    "    data = client_socket.recv(64000).decode()  # receive response\n",
    "    data = json.loads(data)\n",
    "    json_data = data\n",
    "    print (data)\n",
    "    count = count+1\n",
    "\n",
    "client_socket.close()  # close the connection"
   ]
  }
 ],
 "metadata": {
  "kernelspec": {
   "display_name": "Python 3.9.12 64-bit",
   "language": "python",
   "name": "python3"
  },
  "language_info": {
   "codemirror_mode": {
    "name": "ipython",
    "version": 3
   },
   "file_extension": ".py",
   "mimetype": "text/x-python",
   "name": "python",
   "nbconvert_exporter": "python",
   "pygments_lexer": "ipython3",
   "version": "3.9.12"
  },
  "orig_nbformat": 4,
  "vscode": {
   "interpreter": {
    "hash": "7ddf133b4eda059986521323f3292d266b4e97de12a5e96c4c9cf48956d966ac"
   }
  }
 },
 "nbformat": 4,
 "nbformat_minor": 2
}
